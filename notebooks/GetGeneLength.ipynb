{
 "cells": [
  {
   "cell_type": "code",
   "execution_count": 1,
   "metadata": {},
   "outputs": [],
   "source": [
    "import pandas as pd\n",
    "import logging\n",
    "from datetime import datetime\n",
    "import csv\n",
    "from collections import defaultdict"
   ]
  },
  {
   "cell_type": "code",
   "execution_count": 2,
   "metadata": {},
   "outputs": [],
   "source": [
    "# set up logging file\n",
    "# Step 1: Configure the logging\n",
    "logging.basicConfig(filename='../logs/gene_length.log',  # Log file path\n",
    "                    filemode='a',  # Append mode (use 'w' for overwrite mode)\n",
    "                    level=logging.INFO,  # Log level (DEBUG, INFO, WARNING, ERROR, CRITICAL)\n",
    "                    format='%(asctime)s - %(levelname)s - %(message)s',  # Log message format\n",
    "                    datefmt='%Y-%m-%d %H:%M:%S')  # Date format\n",
    "# Step 2: Write log messages\n",
    "# Generate a timestamp\n",
    "timestamp = datetime.now().strftime('%Y-%m-%d_%H-%M-%S')\n",
    "logging.info(f\"Starting gene length calculation: {timestamp}\")  # Example of logging an informational message"
   ]
  },
  {
   "cell_type": "markdown",
   "metadata": {},
   "source": [
    "# Process\n",
    "Normally I would use a gff parser, but I think this may be too heavy weight for what I need. \n",
    "\n",
    "1. Read data/references/GCF_000001405.40_GRCh38.p14_genomic.gff\n",
    "2. Keep only 'gene' lines.\n",
    "3. Calculate length: $5-$4+1\n",
    "4. Gene gene id from column 9\n",
    "5. Get gene symbol from column 9"
   ]
  },
  {
   "cell_type": "code",
   "execution_count": 3,
   "metadata": {},
   "outputs": [],
   "source": [
    "file='../data/references/GCF_000001405.40_GRCh38.p14_genomic.gff'\n",
    "\n",
    "genes = []\n",
    "\n",
    "with open(file, 'r') as f:\n",
    "    reader = csv.reader(f, delimiter='\\t')\n",
    "    for row in reader:\n",
    "        if len(row) > 2 and row[2] == 'gene':\n",
    "            genes.append(row)\n",
    "\n",
    "logging.info(f\"Filtered gene lines: {len(genes)}\")"
   ]
  },
  {
   "cell_type": "code",
   "execution_count": 5,
   "metadata": {},
   "outputs": [
    {
     "name": "stdout",
     "output_type": "stream",
     "text": [
      "[{'length': 68, 'name': 'MIR6859-1', 'gene_id': '102466751'}, {'length': 5645, 'name': 'MIR1302-2HG', 'gene_id': '107985730'}, {'length': 138, 'name': 'MIR1302-2', 'gene_id': '100302278'}, {'length': 1471, 'name': 'FAM138A', 'gene_id': '645520'}, {'length': 6167, 'name': 'OR4F5', 'gene_id': '79501'}]\n"
     ]
    }
   ],
   "source": [
    "gene_info = []\n",
    "\n",
    "for gene in genes:\n",
    "    start = int(gene[3])\n",
    "    end = int(gene[4])\n",
    "    length = end - start + 1\n",
    "    \n",
    "    attributes = gene[8].split(';')\n",
    "    name = None\n",
    "    gene_id = None\n",
    "    \n",
    "    for attribute in attributes:\n",
    "        if attribute.startswith('Name='):\n",
    "            name = attribute.split('=')[1]\n",
    "        elif attribute.startswith('Dbxref=GeneID:'):\n",
    "            gene_id = attribute.split(':')[1].split(',')[0]\n",
    "    \n",
    "    gene_info.append({'length': length, 'name': name, 'gene_id': gene_id})\n",
    "\n",
    "logging.info(f\"Processed gene information: {len(gene_info)}\")\n",
    "print(gene_info[:5])  # Print first 5 entries for verification"
   ]
  },
  {
   "cell_type": "code",
   "execution_count": 6,
   "metadata": {},
   "outputs": [
    {
     "name": "stdout",
     "output_type": "stream",
     "text": [
      "Gene information written to ../data/processed/gene_info.csv\n"
     ]
    }
   ],
   "source": [
    "output_file = '../data/processed/gene_info.csv'\n",
    "\n",
    "# Define the column order\n",
    "columns = ['gene_id', 'name', 'length']\n",
    "\n",
    "# Write the gene_info to a CSV file\n",
    "with open(output_file, 'w', newline='') as csvfile:\n",
    "    writer = csv.DictWriter(csvfile, fieldnames=columns)\n",
    "    writer.writeheader()\n",
    "    writer.writerows(gene_info)\n",
    "\n",
    "logging.info(f\"Gene information written to {output_file}\")\n",
    "print(f\"Gene information written to {output_file}\")"
   ]
  }
 ],
 "metadata": {
  "kernelspec": {
   "display_name": "sb_capstone",
   "language": "python",
   "name": "python3"
  },
  "language_info": {
   "codemirror_mode": {
    "name": "ipython",
    "version": 3
   },
   "file_extension": ".py",
   "mimetype": "text/x-python",
   "name": "python",
   "nbconvert_exporter": "python",
   "pygments_lexer": "ipython3",
   "version": "3.12.4"
  }
 },
 "nbformat": 4,
 "nbformat_minor": 2
}
